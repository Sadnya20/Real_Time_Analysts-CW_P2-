{
 "cells": [
  {
   "cell_type": "markdown",
   "id": "bf547087-c2db-41cd-bf1f-1db182910d06",
   "metadata": {},
   "source": [
    "# 🎵 **Spotify Songs Data Cleaning Process** 🎵"
   ]
  },
  {
   "cell_type": "markdown",
   "id": "8c7912d7-d262-4a2b-b355-530597fe91e1",
   "metadata": {},
   "source": [
    "## 📝 **Objective**\n",
    "🔹 Prepare the dataset for analysis by cleaning inconsistencies, handling missing values, and standardizing data.\n"
   ]
  },
  {
   "cell_type": "code",
   "execution_count": 1,
   "id": "aa5d295e-15dd-482f-94c1-8623b7a0f837",
   "metadata": {},
   "outputs": [],
   "source": [
    "import pandas as pd\n",
    "import numpy as np"
   ]
  },
  {
   "cell_type": "code",
   "execution_count": null,
   "id": "70923f49-37ee-43cb-97c0-01e9e53a3221",
   "metadata": {},
   "outputs": [],
   "source": []
  },
  {
   "cell_type": "markdown",
   "id": "db9e7631-489c-42fc-b78a-d55cc90ab60f",
   "metadata": {},
   "source": [
    "### Steps:\n",
    "🔹 **Load Dataset**: Import and read the `spotify_songs_dataset.csv` file."
   ]
  },
  {
   "cell_type": "code",
   "execution_count": 2,
   "id": "a71d496e-e207-4075-a967-d275fcb255ab",
   "metadata": {},
   "outputs": [],
   "source": [
    "\n",
    "df = pd.read_csv(\"spotify_songs_dataset.csv\")\n"
   ]
  },
  {
   "cell_type": "code",
   "execution_count": 3,
   "id": "162df2e3-dd48-4cdd-99b0-db04e68803a6",
   "metadata": {},
   "outputs": [
    {
     "name": "stdout",
     "output_type": "stream",
     "text": [
      "<class 'pandas.core.frame.DataFrame'>\n",
      "RangeIndex: 50000 entries, 0 to 49999\n",
      "Data columns (total 15 columns):\n",
      " #   Column            Non-Null Count  Dtype  \n",
      "---  ------            --------------  -----  \n",
      " 0   song_id           50000 non-null  object \n",
      " 1   song_title        50000 non-null  object \n",
      " 2   artist            50000 non-null  object \n",
      " 3   album             50000 non-null  object \n",
      " 4   genre             50000 non-null  object \n",
      " 5   release_date      50000 non-null  object \n",
      " 6   duration          45000 non-null  float64\n",
      " 7   popularity        50000 non-null  int64  \n",
      " 8   stream            50000 non-null  int64  \n",
      " 9   language          47500 non-null  object \n",
      " 10  explicit_content  50000 non-null  object \n",
      " 11  label             50000 non-null  object \n",
      " 12  composer          50000 non-null  object \n",
      " 13  producer          50000 non-null  object \n",
      " 14  collaboration     15000 non-null  object \n",
      "dtypes: float64(1), int64(2), object(12)\n",
      "memory usage: 5.7+ MB\n"
     ]
    }
   ],
   "source": [
    "# Display basic details\n",
    "df.info()"
   ]
  },
  {
   "cell_type": "code",
   "execution_count": 4,
   "id": "109247ea-557d-4c22-8bf2-3c1afd00799c",
   "metadata": {},
   "outputs": [
    {
     "data": {
      "text/html": [
       "<div>\n",
       "<style scoped>\n",
       "    .dataframe tbody tr th:only-of-type {\n",
       "        vertical-align: middle;\n",
       "    }\n",
       "\n",
       "    .dataframe tbody tr th {\n",
       "        vertical-align: top;\n",
       "    }\n",
       "\n",
       "    .dataframe thead th {\n",
       "        text-align: right;\n",
       "    }\n",
       "</style>\n",
       "<table border=\"1\" class=\"dataframe\">\n",
       "  <thead>\n",
       "    <tr style=\"text-align: right;\">\n",
       "      <th></th>\n",
       "      <th>song_id</th>\n",
       "      <th>song_title</th>\n",
       "      <th>artist</th>\n",
       "      <th>album</th>\n",
       "      <th>genre</th>\n",
       "      <th>release_date</th>\n",
       "      <th>duration</th>\n",
       "      <th>popularity</th>\n",
       "      <th>stream</th>\n",
       "      <th>language</th>\n",
       "      <th>explicit_content</th>\n",
       "      <th>label</th>\n",
       "      <th>composer</th>\n",
       "      <th>producer</th>\n",
       "      <th>collaboration</th>\n",
       "    </tr>\n",
       "  </thead>\n",
       "  <tbody>\n",
       "    <tr>\n",
       "      <th>0</th>\n",
       "      <td>SP0001</td>\n",
       "      <td>Space executive series.</td>\n",
       "      <td>Sydney Clark</td>\n",
       "      <td>What.</td>\n",
       "      <td>Electronic</td>\n",
       "      <td>1997-11-08</td>\n",
       "      <td>282.0</td>\n",
       "      <td>42</td>\n",
       "      <td>35055874</td>\n",
       "      <td>English</td>\n",
       "      <td>Yes</td>\n",
       "      <td>Def Jam</td>\n",
       "      <td>Amy Hatfield</td>\n",
       "      <td>Jeffrey Weaver</td>\n",
       "      <td>NaN</td>\n",
       "    </tr>\n",
       "    <tr>\n",
       "      <th>1</th>\n",
       "      <td>SP0002</td>\n",
       "      <td>Price last painting.</td>\n",
       "      <td>Connor Peters DDS</td>\n",
       "      <td>Nature politics.</td>\n",
       "      <td>Electronic</td>\n",
       "      <td>2015-05-10</td>\n",
       "      <td>127.0</td>\n",
       "      <td>50</td>\n",
       "      <td>9249527</td>\n",
       "      <td>English</td>\n",
       "      <td>Yes</td>\n",
       "      <td>Universal Music</td>\n",
       "      <td>Jason Gregory</td>\n",
       "      <td>Kenneth White</td>\n",
       "      <td>NaN</td>\n",
       "    </tr>\n",
       "    <tr>\n",
       "      <th>2</th>\n",
       "      <td>SP0003</td>\n",
       "      <td>Piece.</td>\n",
       "      <td>Anna Keith</td>\n",
       "      <td>Visit.</td>\n",
       "      <td>Pop</td>\n",
       "      <td>2024-07-08</td>\n",
       "      <td>NaN</td>\n",
       "      <td>10</td>\n",
       "      <td>76669110</td>\n",
       "      <td>English</td>\n",
       "      <td>Yes</td>\n",
       "      <td>Universal Music</td>\n",
       "      <td>Rachel Lopez</td>\n",
       "      <td>Jason Barnes</td>\n",
       "      <td>NaN</td>\n",
       "    </tr>\n",
       "    <tr>\n",
       "      <th>3</th>\n",
       "      <td>SP0004</td>\n",
       "      <td>Power industry your.</td>\n",
       "      <td>Zachary Simpson</td>\n",
       "      <td>Behavior evening.</td>\n",
       "      <td>Hip-Hop</td>\n",
       "      <td>2022-08-15</td>\n",
       "      <td>214.0</td>\n",
       "      <td>86</td>\n",
       "      <td>34732016</td>\n",
       "      <td>English</td>\n",
       "      <td>No</td>\n",
       "      <td>Sony Music</td>\n",
       "      <td>Thomas Li</td>\n",
       "      <td>Mrs. Becky Palmer</td>\n",
       "      <td>NaN</td>\n",
       "    </tr>\n",
       "    <tr>\n",
       "      <th>4</th>\n",
       "      <td>SP0005</td>\n",
       "      <td>Food animal second.</td>\n",
       "      <td>Christopher Mcgee</td>\n",
       "      <td>Front.</td>\n",
       "      <td>Pop</td>\n",
       "      <td>2023-03-05</td>\n",
       "      <td>273.0</td>\n",
       "      <td>63</td>\n",
       "      <td>96649372</td>\n",
       "      <td>English</td>\n",
       "      <td>Yes</td>\n",
       "      <td>Def Jam</td>\n",
       "      <td>Adam Wagner</td>\n",
       "      <td>Beverly Baker</td>\n",
       "      <td>NaN</td>\n",
       "    </tr>\n",
       "  </tbody>\n",
       "</table>\n",
       "</div>"
      ],
      "text/plain": [
       "  song_id               song_title             artist              album  \\\n",
       "0  SP0001  Space executive series.       Sydney Clark              What.   \n",
       "1  SP0002     Price last painting.  Connor Peters DDS   Nature politics.   \n",
       "2  SP0003                   Piece.         Anna Keith             Visit.   \n",
       "3  SP0004     Power industry your.    Zachary Simpson  Behavior evening.   \n",
       "4  SP0005      Food animal second.  Christopher Mcgee             Front.   \n",
       "\n",
       "        genre release_date  duration  popularity    stream language  \\\n",
       "0  Electronic   1997-11-08     282.0          42  35055874  English   \n",
       "1  Electronic   2015-05-10     127.0          50   9249527  English   \n",
       "2         Pop   2024-07-08       NaN          10  76669110  English   \n",
       "3     Hip-Hop   2022-08-15     214.0          86  34732016  English   \n",
       "4         Pop   2023-03-05     273.0          63  96649372  English   \n",
       "\n",
       "  explicit_content            label       composer           producer  \\\n",
       "0              Yes          Def Jam   Amy Hatfield     Jeffrey Weaver   \n",
       "1              Yes  Universal Music  Jason Gregory      Kenneth White   \n",
       "2              Yes  Universal Music   Rachel Lopez       Jason Barnes   \n",
       "3               No       Sony Music      Thomas Li  Mrs. Becky Palmer   \n",
       "4              Yes          Def Jam    Adam Wagner      Beverly Baker   \n",
       "\n",
       "  collaboration  \n",
       "0           NaN  \n",
       "1           NaN  \n",
       "2           NaN  \n",
       "3           NaN  \n",
       "4           NaN  "
      ]
     },
     "execution_count": 4,
     "metadata": {},
     "output_type": "execute_result"
    }
   ],
   "source": [
    "df.head()"
   ]
  },
  {
   "cell_type": "code",
   "execution_count": 5,
   "id": "9ed61ec7-aae6-4311-8837-b0ef5e59268d",
   "metadata": {},
   "outputs": [
    {
     "data": {
      "text/html": [
       "<div>\n",
       "<style scoped>\n",
       "    .dataframe tbody tr th:only-of-type {\n",
       "        vertical-align: middle;\n",
       "    }\n",
       "\n",
       "    .dataframe tbody tr th {\n",
       "        vertical-align: top;\n",
       "    }\n",
       "\n",
       "    .dataframe thead th {\n",
       "        text-align: right;\n",
       "    }\n",
       "</style>\n",
       "<table border=\"1\" class=\"dataframe\">\n",
       "  <thead>\n",
       "    <tr style=\"text-align: right;\">\n",
       "      <th></th>\n",
       "      <th>duration</th>\n",
       "      <th>popularity</th>\n",
       "      <th>stream</th>\n",
       "    </tr>\n",
       "  </thead>\n",
       "  <tbody>\n",
       "    <tr>\n",
       "      <th>count</th>\n",
       "      <td>45000.000000</td>\n",
       "      <td>50000.000000</td>\n",
       "      <td>5.000000e+04</td>\n",
       "    </tr>\n",
       "    <tr>\n",
       "      <th>mean</th>\n",
       "      <td>239.659178</td>\n",
       "      <td>50.783440</td>\n",
       "      <td>5.019183e+07</td>\n",
       "    </tr>\n",
       "    <tr>\n",
       "      <th>std</th>\n",
       "      <td>50.136727</td>\n",
       "      <td>28.948749</td>\n",
       "      <td>2.893624e+07</td>\n",
       "    </tr>\n",
       "    <tr>\n",
       "      <th>min</th>\n",
       "      <td>33.000000</td>\n",
       "      <td>1.000000</td>\n",
       "      <td>1.899000e+03</td>\n",
       "    </tr>\n",
       "    <tr>\n",
       "      <th>25%</th>\n",
       "      <td>206.000000</td>\n",
       "      <td>26.000000</td>\n",
       "      <td>2.523311e+07</td>\n",
       "    </tr>\n",
       "    <tr>\n",
       "      <th>50%</th>\n",
       "      <td>240.000000</td>\n",
       "      <td>51.000000</td>\n",
       "      <td>5.042169e+07</td>\n",
       "    </tr>\n",
       "    <tr>\n",
       "      <th>75%</th>\n",
       "      <td>273.000000</td>\n",
       "      <td>76.000000</td>\n",
       "      <td>7.519064e+07</td>\n",
       "    </tr>\n",
       "    <tr>\n",
       "      <th>max</th>\n",
       "      <td>433.000000</td>\n",
       "      <td>100.000000</td>\n",
       "      <td>9.999913e+07</td>\n",
       "    </tr>\n",
       "  </tbody>\n",
       "</table>\n",
       "</div>"
      ],
      "text/plain": [
       "           duration    popularity        stream\n",
       "count  45000.000000  50000.000000  5.000000e+04\n",
       "mean     239.659178     50.783440  5.019183e+07\n",
       "std       50.136727     28.948749  2.893624e+07\n",
       "min       33.000000      1.000000  1.899000e+03\n",
       "25%      206.000000     26.000000  2.523311e+07\n",
       "50%      240.000000     51.000000  5.042169e+07\n",
       "75%      273.000000     76.000000  7.519064e+07\n",
       "max      433.000000    100.000000  9.999913e+07"
      ]
     },
     "execution_count": 5,
     "metadata": {},
     "output_type": "execute_result"
    }
   ],
   "source": [
    "df.describe()"
   ]
  },
  {
   "cell_type": "code",
   "execution_count": 6,
   "id": "3417c6d5-aa00-482c-b185-dfbc36403b0f",
   "metadata": {
    "scrolled": true
   },
   "outputs": [
    {
     "data": {
      "text/markdown": [
       "\n",
       "## Statistical Summary of Spotify Songs Dataset\n",
       "\n",
       "#### 1. Duration (seconds)\n",
       "- Average song length is **~4 minutes**, ranging from **33 sec to 7.2 min**.\n",
       "- Some songs are significantly shorter or longer, indicating possible **outliers**.\n",
       "\n",
       "#### 2. Popularity (0-100 Scale)\n",
       "- Median popularity is **51**, with values ranging from **1 to 100**.\n",
       "- High standard deviation (**28.94**) suggests **variation in song popularity**.\n",
       "\n",
       "#### 3. Streams (Number of Plays)\n",
       "- Average streams are **~50M**, but some songs have as low as **1.8K** and as high as **100M**.\n",
       "- Skewed distribution suggests **top-streamed songs dominate the dataset**.\n",
       "\n",
       "####  🔹 Key Observations\n",
       "- Potential **outliers** in duration, popularity, and streams.\n",
       "- Stream count is **highly skewed**, meaning **top songs get most of the plays**.\n",
       "- **Data cleaning** (outlier handling, normalization) may improve analysis accuracy.\n"
      ],
      "text/plain": [
       "<IPython.core.display.Markdown object>"
      ]
     },
     "metadata": {},
     "output_type": "display_data"
    }
   ],
   "source": [
    "summary_text = \"\"\"\n",
    "## Statistical Summary of Spotify Songs Dataset\n",
    "\n",
    "#### 1. Duration (seconds)\n",
    "- Average song length is **~4 minutes**, ranging from **33 sec to 7.2 min**.\n",
    "- Some songs are significantly shorter or longer, indicating possible **outliers**.\n",
    "\n",
    "#### 2. Popularity (0-100 Scale)\n",
    "- Median popularity is **51**, with values ranging from **1 to 100**.\n",
    "- High standard deviation (**28.94**) suggests **variation in song popularity**.\n",
    "\n",
    "#### 3. Streams (Number of Plays)\n",
    "- Average streams are **~50M**, but some songs have as low as **1.8K** and as high as **100M**.\n",
    "- Skewed distribution suggests **top-streamed songs dominate the dataset**.\n",
    "\n",
    "####  🔹 Key Observations\n",
    "- Potential **outliers** in duration, popularity, and streams.\n",
    "- Stream count is **highly skewed**, meaning **top songs get most of the plays**.\n",
    "- **Data cleaning** (outlier handling, normalization) may improve analysis accuracy.\n",
    "\"\"\"\n",
    "\n",
    "from IPython.display import display, Markdown\n",
    "display(Markdown(summary_text))\n"
   ]
  },
  {
   "cell_type": "code",
   "execution_count": null,
   "id": "4481919c-75f8-4bc6-800b-d4729c6c78cb",
   "metadata": {},
   "outputs": [],
   "source": []
  },
  {
   "cell_type": "markdown",
   "id": "9f6cb39b-8654-49b9-aa92-f430dd67fbee",
   "metadata": {},
   "source": [
    "**Convert Data Types**:\n",
    "   - 🔹 Convert `release_date` to datetime format.\n",
    "   - 🔹 Convert `explicit_content` to binary (0 for No, 1 for Yes)."
   ]
  },
  {
   "cell_type": "code",
   "execution_count": 7,
   "id": "273c4f97-9234-4aef-a0f1-2a8d3f7d3404",
   "metadata": {},
   "outputs": [],
   "source": [
    "\n",
    "df['release_date'] = pd.to_datetime(df['release_date'], errors='coerce')\n"
   ]
  },
  {
   "cell_type": "code",
   "execution_count": 8,
   "id": "0e8bd8ac-aace-489a-ab5b-669ec689cf44",
   "metadata": {},
   "outputs": [],
   "source": [
    "# df['explicit_content'] = df['explicit_content'].map({'Yes': 1, 'No': 0})"
   ]
  },
  {
   "cell_type": "code",
   "execution_count": null,
   "id": "0aa703ff-5911-4a58-9201-02189933d61f",
   "metadata": {},
   "outputs": [],
   "source": []
  },
  {
   "cell_type": "markdown",
   "id": "6ee9f773-7502-493f-9f35-d0ea740c3d16",
   "metadata": {},
   "source": [
    "**Remove Duplicates**: \n",
    "🔹 Identify and remove duplicate rows."
   ]
  },
  {
   "cell_type": "code",
   "execution_count": 9,
   "id": "195ce5db-30f2-4c01-905e-7c078449245d",
   "metadata": {},
   "outputs": [],
   "source": [
    "df.drop_duplicates(inplace=True)"
   ]
  },
  {
   "cell_type": "code",
   "execution_count": null,
   "id": "bd8dc705-8642-44e1-ae0a-8a48fabd09da",
   "metadata": {},
   "outputs": [],
   "source": []
  },
  {
   "cell_type": "markdown",
   "id": "31b49045-5865-4d78-8850-4652798aac1c",
   "metadata": {},
   "source": [
    "**Standardize Text Columns**: \n",
    "🔹 Convert all categorical text columns to lowercase and trim spaces."
   ]
  },
  {
   "cell_type": "code",
   "execution_count": 10,
   "id": "25121d30-0f5c-4a00-b20f-b064f9ce301e",
   "metadata": {},
   "outputs": [],
   "source": [
    "text_cols = ['song_title', 'artist', 'album', 'genre', 'language', 'label', 'composer', 'producer']\n"
   ]
  },
  {
   "cell_type": "code",
   "execution_count": 11,
   "id": "a7c94deb-47da-4c37-ab17-a515efae6ab5",
   "metadata": {},
   "outputs": [],
   "source": [
    "df[text_cols] = df[text_cols].apply(lambda x: x.str.strip().str.lower())\n"
   ]
  },
  {
   "cell_type": "code",
   "execution_count": null,
   "id": "4f0c0982-a622-4a03-a500-609a7395d9de",
   "metadata": {},
   "outputs": [],
   "source": []
  },
  {
   "cell_type": "markdown",
   "id": "9cdcc3da-ea57-42c9-a013-7c96232f020c",
   "metadata": {},
   "source": [
    " **Handle Missing Values** :\n",
    "   - 🔹 Fill missing `duration` values with the median.\n",
    "   - 🔹 Fill missing `language` values with the mode.\n",
    "   - 🔹 Drop the `collaboration` column due to excessive missing values."
   ]
  },
  {
   "cell_type": "code",
   "execution_count": 12,
   "id": "5b622434-a302-40fd-97a8-7983c2cdd803",
   "metadata": {},
   "outputs": [
    {
     "data": {
      "text/plain": [
       "0        282.0\n",
       "1        127.0\n",
       "2        240.0\n",
       "3        214.0\n",
       "4        273.0\n",
       "         ...  \n",
       "49995    272.0\n",
       "49996    355.0\n",
       "49997    207.0\n",
       "49998    266.0\n",
       "49999    188.0\n",
       "Name: duration, Length: 50000, dtype: float64"
      ]
     },
     "execution_count": 12,
     "metadata": {},
     "output_type": "execute_result"
    }
   ],
   "source": [
    "# Handle missing values\n",
    "df['duration'].fillna(df['duration'].median())  # Impute with median\n"
   ]
  },
  {
   "cell_type": "code",
   "execution_count": 13,
   "id": "beb9dcd3-6e81-4ce1-a0e6-0b53db0b13a0",
   "metadata": {},
   "outputs": [
    {
     "data": {
      "text/plain": [
       "0        False\n",
       "1        False\n",
       "2         True\n",
       "3        False\n",
       "4        False\n",
       "         ...  \n",
       "49995    False\n",
       "49996    False\n",
       "49997    False\n",
       "49998    False\n",
       "49999    False\n",
       "Name: duration, Length: 50000, dtype: bool"
      ]
     },
     "execution_count": 13,
     "metadata": {},
     "output_type": "execute_result"
    }
   ],
   "source": [
    "df['duration'].isna()"
   ]
  },
  {
   "cell_type": "code",
   "execution_count": 14,
   "id": "433bd105-033e-46b0-adc1-643106797165",
   "metadata": {},
   "outputs": [
    {
     "data": {
      "text/plain": [
       "0        english\n",
       "1        english\n",
       "2        english\n",
       "3        english\n",
       "4        english\n",
       "          ...   \n",
       "49995    spanish\n",
       "49996     korean\n",
       "49997    spanish\n",
       "49998    english\n",
       "49999    english\n",
       "Name: language, Length: 50000, dtype: object"
      ]
     },
     "execution_count": 14,
     "metadata": {},
     "output_type": "execute_result"
    }
   ],
   "source": [
    "df['language'].fillna(df['language'].mode()[0])  # Fill missing with mode\n"
   ]
  },
  {
   "cell_type": "code",
   "execution_count": 15,
   "id": "9a87649c-a621-46fc-96ef-514d8657626a",
   "metadata": {},
   "outputs": [],
   "source": [
    " df.drop(columns=['collaboration'], inplace=True)  # Drop collaboration column due to excessive missing values\n"
   ]
  },
  {
   "cell_type": "code",
   "execution_count": null,
   "id": "9ae7c4d5-8f94-4e3b-9c03-a3dc66f263cd",
   "metadata": {},
   "outputs": [],
   "source": []
  },
  {
   "cell_type": "markdown",
   "id": "17b8ac79-6403-40de-a4e7-ef0f665e0315",
   "metadata": {},
   "source": [
    "**Handle Outliers**\n",
    "📊 Apply the **IQR method** to remove extreme values in:  \n",
    "🎵 `duration`, ⭐ `popularity`, and 📈 `stream`."
   ]
  },
  {
   "cell_type": "code",
   "execution_count": 16,
   "id": "b1a84ce5-f83a-4ab3-b369-a3d613f0d682",
   "metadata": {},
   "outputs": [],
   "source": [
    "# Handle outliers using the IQR method\n",
    "for col in ['duration', 'popularity', 'stream']:\n",
    "    Q1 = df[col].quantile(0.25)\n",
    "    Q3 = df[col].quantile(0.75)\n",
    "    IQR = Q3 - Q1\n",
    "    lower_bound = Q1 - 1.5 * IQR\n",
    "    upper_bound = Q3 + 1.5 * IQR\n",
    "    df[col] = np.where(df[col] < lower_bound, lower_bound, df[col])\n",
    "    df[col] = np.where(df[col] > upper_bound, upper_bound, df[col])\n"
   ]
  },
  {
   "cell_type": "code",
   "execution_count": 17,
   "id": "e9c22341-ed8f-40d5-a9b0-03ba7041dd7e",
   "metadata": {},
   "outputs": [
    {
     "data": {
      "text/plain": [
       "np.float64(-49703187.5)"
      ]
     },
     "execution_count": 17,
     "metadata": {},
     "output_type": "execute_result"
    }
   ],
   "source": [
    "lower_bound"
   ]
  },
  {
   "cell_type": "code",
   "execution_count": 18,
   "id": "70bf5c18-bdc5-4bb2-80d8-dc62049dbb62",
   "metadata": {},
   "outputs": [
    {
     "data": {
      "text/plain": [
       "np.float64(150126932.5)"
      ]
     },
     "execution_count": 18,
     "metadata": {},
     "output_type": "execute_result"
    }
   ],
   "source": [
    "upper_bound"
   ]
  },
  {
   "cell_type": "code",
   "execution_count": 19,
   "id": "63bb4229-6508-42f1-bcd3-74c78be9323b",
   "metadata": {},
   "outputs": [
    {
     "data": {
      "text/html": [
       "<div>\n",
       "<style scoped>\n",
       "    .dataframe tbody tr th:only-of-type {\n",
       "        vertical-align: middle;\n",
       "    }\n",
       "\n",
       "    .dataframe tbody tr th {\n",
       "        vertical-align: top;\n",
       "    }\n",
       "\n",
       "    .dataframe thead th {\n",
       "        text-align: right;\n",
       "    }\n",
       "</style>\n",
       "<table border=\"1\" class=\"dataframe\">\n",
       "  <thead>\n",
       "    <tr style=\"text-align: right;\">\n",
       "      <th></th>\n",
       "      <th>song_id</th>\n",
       "      <th>song_title</th>\n",
       "      <th>artist</th>\n",
       "      <th>album</th>\n",
       "      <th>genre</th>\n",
       "      <th>release_date</th>\n",
       "      <th>duration</th>\n",
       "      <th>popularity</th>\n",
       "      <th>stream</th>\n",
       "      <th>language</th>\n",
       "      <th>explicit_content</th>\n",
       "      <th>label</th>\n",
       "      <th>composer</th>\n",
       "      <th>producer</th>\n",
       "    </tr>\n",
       "  </thead>\n",
       "  <tbody>\n",
       "    <tr>\n",
       "      <th>0</th>\n",
       "      <td>SP0001</td>\n",
       "      <td>space executive series.</td>\n",
       "      <td>sydney clark</td>\n",
       "      <td>what.</td>\n",
       "      <td>electronic</td>\n",
       "      <td>1997-11-08</td>\n",
       "      <td>282.0</td>\n",
       "      <td>42.0</td>\n",
       "      <td>35055874.0</td>\n",
       "      <td>english</td>\n",
       "      <td>Yes</td>\n",
       "      <td>def jam</td>\n",
       "      <td>amy hatfield</td>\n",
       "      <td>jeffrey weaver</td>\n",
       "    </tr>\n",
       "    <tr>\n",
       "      <th>1</th>\n",
       "      <td>SP0002</td>\n",
       "      <td>price last painting.</td>\n",
       "      <td>connor peters dds</td>\n",
       "      <td>nature politics.</td>\n",
       "      <td>electronic</td>\n",
       "      <td>2015-05-10</td>\n",
       "      <td>127.0</td>\n",
       "      <td>50.0</td>\n",
       "      <td>9249527.0</td>\n",
       "      <td>english</td>\n",
       "      <td>Yes</td>\n",
       "      <td>universal music</td>\n",
       "      <td>jason gregory</td>\n",
       "      <td>kenneth white</td>\n",
       "    </tr>\n",
       "    <tr>\n",
       "      <th>2</th>\n",
       "      <td>SP0003</td>\n",
       "      <td>piece.</td>\n",
       "      <td>anna keith</td>\n",
       "      <td>visit.</td>\n",
       "      <td>pop</td>\n",
       "      <td>2024-07-08</td>\n",
       "      <td>NaN</td>\n",
       "      <td>10.0</td>\n",
       "      <td>76669110.0</td>\n",
       "      <td>english</td>\n",
       "      <td>Yes</td>\n",
       "      <td>universal music</td>\n",
       "      <td>rachel lopez</td>\n",
       "      <td>jason barnes</td>\n",
       "    </tr>\n",
       "    <tr>\n",
       "      <th>3</th>\n",
       "      <td>SP0004</td>\n",
       "      <td>power industry your.</td>\n",
       "      <td>zachary simpson</td>\n",
       "      <td>behavior evening.</td>\n",
       "      <td>hip-hop</td>\n",
       "      <td>2022-08-15</td>\n",
       "      <td>214.0</td>\n",
       "      <td>86.0</td>\n",
       "      <td>34732016.0</td>\n",
       "      <td>english</td>\n",
       "      <td>No</td>\n",
       "      <td>sony music</td>\n",
       "      <td>thomas li</td>\n",
       "      <td>mrs. becky palmer</td>\n",
       "    </tr>\n",
       "    <tr>\n",
       "      <th>4</th>\n",
       "      <td>SP0005</td>\n",
       "      <td>food animal second.</td>\n",
       "      <td>christopher mcgee</td>\n",
       "      <td>front.</td>\n",
       "      <td>pop</td>\n",
       "      <td>2023-03-05</td>\n",
       "      <td>273.0</td>\n",
       "      <td>63.0</td>\n",
       "      <td>96649372.0</td>\n",
       "      <td>english</td>\n",
       "      <td>Yes</td>\n",
       "      <td>def jam</td>\n",
       "      <td>adam wagner</td>\n",
       "      <td>beverly baker</td>\n",
       "    </tr>\n",
       "  </tbody>\n",
       "</table>\n",
       "</div>"
      ],
      "text/plain": [
       "  song_id               song_title             artist              album  \\\n",
       "0  SP0001  space executive series.       sydney clark              what.   \n",
       "1  SP0002     price last painting.  connor peters dds   nature politics.   \n",
       "2  SP0003                   piece.         anna keith             visit.   \n",
       "3  SP0004     power industry your.    zachary simpson  behavior evening.   \n",
       "4  SP0005      food animal second.  christopher mcgee             front.   \n",
       "\n",
       "        genre release_date  duration  popularity      stream language  \\\n",
       "0  electronic   1997-11-08     282.0        42.0  35055874.0  english   \n",
       "1  electronic   2015-05-10     127.0        50.0   9249527.0  english   \n",
       "2         pop   2024-07-08       NaN        10.0  76669110.0  english   \n",
       "3     hip-hop   2022-08-15     214.0        86.0  34732016.0  english   \n",
       "4         pop   2023-03-05     273.0        63.0  96649372.0  english   \n",
       "\n",
       "  explicit_content            label       composer           producer  \n",
       "0              Yes          def jam   amy hatfield     jeffrey weaver  \n",
       "1              Yes  universal music  jason gregory      kenneth white  \n",
       "2              Yes  universal music   rachel lopez       jason barnes  \n",
       "3               No       sony music      thomas li  mrs. becky palmer  \n",
       "4              Yes          def jam    adam wagner      beverly baker  "
      ]
     },
     "execution_count": 19,
     "metadata": {},
     "output_type": "execute_result"
    }
   ],
   "source": [
    "df.head()"
   ]
  },
  {
   "cell_type": "markdown",
   "id": "6c14a1d2-9367-49ed-9470-bb9134751ba7",
   "metadata": {},
   "source": [
    "🎵**Save Cleaned Data** 🎵\n",
    "💾 Export the cleaned dataset as **`cleaned_spotify_songs.csv`**.\n"
   ]
  },
  {
   "cell_type": "code",
   "execution_count": 22,
   "id": "bdbdb846-819d-4b6b-b6f6-4bd6ae0d0fb0",
   "metadata": {},
   "outputs": [],
   "source": [
    "df.to_csv(\"new_cleanedd_spotify_songs.csv\", index=False)\n",
    "\n"
   ]
  },
  {
   "cell_type": "code",
   "execution_count": 23,
   "id": "e3e76fbf-5981-4f58-844c-eb729e113748",
   "metadata": {},
   "outputs": [
    {
     "name": "stdout",
     "output_type": "stream",
     "text": [
      "Data cleaning complete. Cleaned file saved as 'cleaned_spotify_songs.csv'.\n"
     ]
    }
   ],
   "source": [
    "print(\"Data cleaning complete. Cleaned file saved as 'cleaned_spotify_songs.csv'.\")"
   ]
  },
  {
   "cell_type": "code",
   "execution_count": 24,
   "id": "3b023d6b-b02e-428c-8c81-c99db48c1075",
   "metadata": {},
   "outputs": [
    {
     "data": {
      "text/html": [
       "<div>\n",
       "<style scoped>\n",
       "    .dataframe tbody tr th:only-of-type {\n",
       "        vertical-align: middle;\n",
       "    }\n",
       "\n",
       "    .dataframe tbody tr th {\n",
       "        vertical-align: top;\n",
       "    }\n",
       "\n",
       "    .dataframe thead th {\n",
       "        text-align: right;\n",
       "    }\n",
       "</style>\n",
       "<table border=\"1\" class=\"dataframe\">\n",
       "  <thead>\n",
       "    <tr style=\"text-align: right;\">\n",
       "      <th></th>\n",
       "      <th>song_id</th>\n",
       "      <th>song_title</th>\n",
       "      <th>artist</th>\n",
       "      <th>album</th>\n",
       "      <th>genre</th>\n",
       "      <th>release_date</th>\n",
       "      <th>duration</th>\n",
       "      <th>popularity</th>\n",
       "      <th>stream</th>\n",
       "      <th>language</th>\n",
       "      <th>explicit_content</th>\n",
       "      <th>label</th>\n",
       "      <th>composer</th>\n",
       "      <th>producer</th>\n",
       "    </tr>\n",
       "  </thead>\n",
       "  <tbody>\n",
       "    <tr>\n",
       "      <th>0</th>\n",
       "      <td>SP0001</td>\n",
       "      <td>space executive series.</td>\n",
       "      <td>sydney clark</td>\n",
       "      <td>what.</td>\n",
       "      <td>electronic</td>\n",
       "      <td>1997-11-08</td>\n",
       "      <td>282.0</td>\n",
       "      <td>42.0</td>\n",
       "      <td>35055874.0</td>\n",
       "      <td>english</td>\n",
       "      <td>Yes</td>\n",
       "      <td>def jam</td>\n",
       "      <td>amy hatfield</td>\n",
       "      <td>jeffrey weaver</td>\n",
       "    </tr>\n",
       "    <tr>\n",
       "      <th>1</th>\n",
       "      <td>SP0002</td>\n",
       "      <td>price last painting.</td>\n",
       "      <td>connor peters dds</td>\n",
       "      <td>nature politics.</td>\n",
       "      <td>electronic</td>\n",
       "      <td>2015-05-10</td>\n",
       "      <td>127.0</td>\n",
       "      <td>50.0</td>\n",
       "      <td>9249527.0</td>\n",
       "      <td>english</td>\n",
       "      <td>Yes</td>\n",
       "      <td>universal music</td>\n",
       "      <td>jason gregory</td>\n",
       "      <td>kenneth white</td>\n",
       "    </tr>\n",
       "    <tr>\n",
       "      <th>2</th>\n",
       "      <td>SP0003</td>\n",
       "      <td>piece.</td>\n",
       "      <td>anna keith</td>\n",
       "      <td>visit.</td>\n",
       "      <td>pop</td>\n",
       "      <td>2024-07-08</td>\n",
       "      <td>NaN</td>\n",
       "      <td>10.0</td>\n",
       "      <td>76669110.0</td>\n",
       "      <td>english</td>\n",
       "      <td>Yes</td>\n",
       "      <td>universal music</td>\n",
       "      <td>rachel lopez</td>\n",
       "      <td>jason barnes</td>\n",
       "    </tr>\n",
       "    <tr>\n",
       "      <th>3</th>\n",
       "      <td>SP0004</td>\n",
       "      <td>power industry your.</td>\n",
       "      <td>zachary simpson</td>\n",
       "      <td>behavior evening.</td>\n",
       "      <td>hip-hop</td>\n",
       "      <td>2022-08-15</td>\n",
       "      <td>214.0</td>\n",
       "      <td>86.0</td>\n",
       "      <td>34732016.0</td>\n",
       "      <td>english</td>\n",
       "      <td>No</td>\n",
       "      <td>sony music</td>\n",
       "      <td>thomas li</td>\n",
       "      <td>mrs. becky palmer</td>\n",
       "    </tr>\n",
       "    <tr>\n",
       "      <th>4</th>\n",
       "      <td>SP0005</td>\n",
       "      <td>food animal second.</td>\n",
       "      <td>christopher mcgee</td>\n",
       "      <td>front.</td>\n",
       "      <td>pop</td>\n",
       "      <td>2023-03-05</td>\n",
       "      <td>273.0</td>\n",
       "      <td>63.0</td>\n",
       "      <td>96649372.0</td>\n",
       "      <td>english</td>\n",
       "      <td>Yes</td>\n",
       "      <td>def jam</td>\n",
       "      <td>adam wagner</td>\n",
       "      <td>beverly baker</td>\n",
       "    </tr>\n",
       "  </tbody>\n",
       "</table>\n",
       "</div>"
      ],
      "text/plain": [
       "  song_id               song_title             artist              album  \\\n",
       "0  SP0001  space executive series.       sydney clark              what.   \n",
       "1  SP0002     price last painting.  connor peters dds   nature politics.   \n",
       "2  SP0003                   piece.         anna keith             visit.   \n",
       "3  SP0004     power industry your.    zachary simpson  behavior evening.   \n",
       "4  SP0005      food animal second.  christopher mcgee             front.   \n",
       "\n",
       "        genre release_date  duration  popularity      stream language  \\\n",
       "0  electronic   1997-11-08     282.0        42.0  35055874.0  english   \n",
       "1  electronic   2015-05-10     127.0        50.0   9249527.0  english   \n",
       "2         pop   2024-07-08       NaN        10.0  76669110.0  english   \n",
       "3     hip-hop   2022-08-15     214.0        86.0  34732016.0  english   \n",
       "4         pop   2023-03-05     273.0        63.0  96649372.0  english   \n",
       "\n",
       "  explicit_content            label       composer           producer  \n",
       "0              Yes          def jam   amy hatfield     jeffrey weaver  \n",
       "1              Yes  universal music  jason gregory      kenneth white  \n",
       "2              Yes  universal music   rachel lopez       jason barnes  \n",
       "3               No       sony music      thomas li  mrs. becky palmer  \n",
       "4              Yes          def jam    adam wagner      beverly baker  "
      ]
     },
     "execution_count": 24,
     "metadata": {},
     "output_type": "execute_result"
    }
   ],
   "source": [
    "df.head()"
   ]
  },
  {
   "cell_type": "code",
   "execution_count": null,
   "id": "f7f39a78-e422-4029-9ffe-f22be921fe0b",
   "metadata": {},
   "outputs": [],
   "source": []
  }
 ],
 "metadata": {
  "kernelspec": {
   "display_name": "Python 3 (ipykernel)",
   "language": "python",
   "name": "python3"
  },
  "language_info": {
   "codemirror_mode": {
    "name": "ipython",
    "version": 3
   },
   "file_extension": ".py",
   "mimetype": "text/x-python",
   "name": "python",
   "nbconvert_exporter": "python",
   "pygments_lexer": "ipython3",
   "version": "3.13.1"
  }
 },
 "nbformat": 4,
 "nbformat_minor": 5
}
